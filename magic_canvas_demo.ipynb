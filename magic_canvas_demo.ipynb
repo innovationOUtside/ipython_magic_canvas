{
 "cells": [
  {
   "cell_type": "markdown",
   "metadata": {},
   "source": [
    "# Demo - `ipython_magic_canvas`\n",
    "\n",
    "\n",
    "Install the magic: `pip install git+https://github.com/psychemedia/ipython_magic_canvas.git`"
   ]
  },
  {
   "cell_type": "markdown",
   "metadata": {},
   "source": [
    "## Load in the magic"
   ]
  },
  {
   "cell_type": "code",
   "execution_count": 1,
   "metadata": {},
   "outputs": [],
   "source": [
    "%load_ext canvas_magic"
   ]
  },
  {
   "cell_type": "markdown",
   "metadata": {},
   "source": [
    "## Block Magic with Explicit Context"
   ]
  },
  {
   "cell_type": "code",
   "execution_count": 2,
   "metadata": {},
   "outputs": [
    {
     "data": {
      "text/html": [
       "<canvas id=\"SV3OY\" width=\"700\" height=\"410\">  <p>Some default content can appear here.</p>\n",
       "</canvas>\n",
       "<script type=\"text/javascript\">var canvas = document.getElementById('SV3OY');\n",
       "  //if (canvas.getContext) {}\n",
       "    var ctx = canvas.getContext('2d');</script> \n",
       "<script type=\"text/javascript\">ctx.beginPath(); \n",
       "\n",
       "ctx.fillStyle = \"#F9A520\";\n",
       "ctx.moveTo(0, 0);\n",
       "ctx.lineTo(200, 0); \n",
       "ctx.lineTo(100, 200); \n",
       "ctx.fill(); \n",
       "\n",
       "// triangle 2, top center\n",
       "ctx.moveTo(300, 0); // pick up \"pen,\" reposition at 300 (horiz), 0 (vert)\n",
       "ctx.lineTo(300, 200); // draw straight down (from 300,0) to 200px\n",
       "ctx.lineTo(500, 100); // draw up toward right (100 half of 200)\n",
       "ctx.fill(); // connect and fill\n",
       "</script>"
      ],
      "text/plain": [
       "<canvas_magic.canvas.Canvas at 0x10450c438>"
      ]
     },
     "execution_count": 2,
     "metadata": {},
     "output_type": "execute_result"
    }
   ],
   "source": [
    "%%canvas -c ctx\n",
    "ctx.beginPath(); \n",
    "\n",
    "ctx.fillStyle = \"#F9A520\";\n",
    "ctx.moveTo(0, 0);\n",
    "ctx.lineTo(200, 0); \n",
    "ctx.lineTo(100, 200); \n",
    "ctx.fill(); \n",
    "\n",
    "// triangle 2, top center\n",
    "ctx.moveTo(300, 0); // pick up \"pen,\" reposition at 300 (horiz), 0 (vert)\n",
    "ctx.lineTo(300, 200); // draw straight down (from 300,0) to 200px\n",
    "ctx.lineTo(500, 100); // draw up toward right (100 half of 200)\n",
    "ctx.fill(); // connect and fill"
   ]
  },
  {
   "cell_type": "markdown",
   "metadata": {},
   "source": [
    "## Block Magic with Implicit Context"
   ]
  },
  {
   "cell_type": "code",
   "execution_count": 3,
   "metadata": {},
   "outputs": [
    {
     "data": {
      "text/html": [
       "<canvas id=\"A8A1P\" width=\"700\" height=\"410\">  <p>Some default content can appear here.</p>\n",
       "</canvas>\n",
       "<script type=\"text/javascript\">var canvas = document.getElementById('A8A1P');\n",
       "  //if (canvas.getContext) {}\n",
       "    var ctx = canvas.getContext('2d');</script> \n",
       "<script type=\"text/javascript\">with (ctx) { beginPath(); \n",
       "\n",
       "fillStyle = \"#F9A520\";\n",
       "moveTo(0, 0);\n",
       "lineTo(200, 0); \n",
       "lineTo(100, 200); \n",
       "fill(); \n",
       "\n",
       "beginPath(); \n",
       "fillStyle = \"#F00\";\n",
       "moveTo(300, 200); \n",
       "lineTo(300, 400); // draw straight down by 200px (200 + 200)\n",
       "lineTo(100, 300); // draw up toward left (100 less than 300, so left)\n",
       "fill(); // connect and fill\n",
       " }</script>"
      ],
      "text/plain": [
       "<canvas_magic.canvas.Canvas at 0x10450cc18>"
      ]
     },
     "execution_count": 3,
     "metadata": {},
     "output_type": "execute_result"
    }
   ],
   "source": [
    "%%canvas\n",
    "beginPath(); \n",
    "\n",
    "fillStyle = \"#F9A520\";\n",
    "moveTo(0, 0);\n",
    "lineTo(200, 0); \n",
    "lineTo(100, 200); \n",
    "fill(); \n",
    "\n",
    "beginPath(); \n",
    "fillStyle = \"#F00\";\n",
    "moveTo(300, 200); \n",
    "lineTo(300, 400); // draw straight down by 200px (200 + 200)\n",
    "lineTo(100, 300); // draw up toward left (100 less than 300, so left)\n",
    "fill(); // connect and fill"
   ]
  },
  {
   "cell_type": "markdown",
   "metadata": {},
   "source": [
    "## Cell Magic with Explicit Context"
   ]
  },
  {
   "cell_type": "code",
   "execution_count": 5,
   "metadata": {},
   "outputs": [],
   "source": [
    "txt='''\n",
    "    ctx.beginPath(); // note usage below \n",
    "\n",
    "    // triangle 1, at left\n",
    "    ctx.fillStyle = \"#F9A520\";\n",
    "    ctx.moveTo(0, 0); // start at top left corner of canvas\n",
    "    ctx.lineTo(200, 0); // go 200px to right (x), straight line from 0 to 0\n",
    "    ctx.lineTo(100, 200); // go to horizontal 100 (x) and vertical 200 (y)\n",
    "    ctx.fill(); // connect and fill\n",
    "\n",
    "    // triangle 2, top center\n",
    "    ctx.moveTo(300, 0); // pick up \"pen,\" reposition at 300 (horiz), 0 (vert)\n",
    "    ctx.lineTo(300, 200); // draw straight down (from 300,0) to 200px\n",
    "    ctx.lineTo(500, 100); // draw up toward right (100 half of 200)\n",
    "    ctx.fill(); // connect and fill\n",
    "\n",
    "    // triangle 3, bottom center\n",
    "    ctx.beginPath(); // note: w/o this, color does not work as expected \n",
    "    ctx.fillStyle = \"#F00\";\n",
    "    ctx.moveTo(300, 200); // pick up \"pen,\" reposition at 300 (horiz), 200 (vert)\n",
    "    ctx.lineTo(300, 400); // draw straight down by 200px (200 + 200)\n",
    "    ctx.lineTo(100, 300); // draw up toward left (100 less than 300, so left)\n",
    "    ctx.fill(); // connect and fill\n",
    "\n",
    "\n",
    "'''"
   ]
  },
  {
   "cell_type": "code",
   "execution_count": 6,
   "metadata": {},
   "outputs": [
    {
     "data": {
      "text/html": [
       "<canvas id=\"NHK7T\" width=\"700\" height=\"410\">  <p>Some default content can appear here.</p>\n",
       "</canvas>\n",
       "<script type=\"text/javascript\">var canvas = document.getElementById('NHK7T');\n",
       "  //if (canvas.getContext) {}\n",
       "    var ctx = canvas.getContext('2d');</script> \n",
       "<script type=\"text/javascript\">\n",
       "    ctx.beginPath(); // note usage below \n",
       "\n",
       "    // triangle 1, at left\n",
       "    ctx.fillStyle = \"#F9A520\";\n",
       "    ctx.moveTo(0, 0); // start at top left corner of canvas\n",
       "    ctx.lineTo(200, 0); // go 200px to right (x), straight line from 0 to 0\n",
       "    ctx.lineTo(100, 200); // go to horizontal 100 (x) and vertical 200 (y)\n",
       "    ctx.fill(); // connect and fill\n",
       "\n",
       "    // triangle 2, top center\n",
       "    ctx.moveTo(300, 0); // pick up \"pen,\" reposition at 300 (horiz), 0 (vert)\n",
       "    ctx.lineTo(300, 200); // draw straight down (from 300,0) to 200px\n",
       "    ctx.lineTo(500, 100); // draw up toward right (100 half of 200)\n",
       "    ctx.fill(); // connect and fill\n",
       "\n",
       "    // triangle 3, bottom center\n",
       "    ctx.beginPath(); // note: w/o this, color does not work as expected \n",
       "    ctx.fillStyle = \"#F00\";\n",
       "    ctx.moveTo(300, 200); // pick up \"pen,\" reposition at 300 (horiz), 200 (vert)\n",
       "    ctx.lineTo(300, 400); // draw straight down by 200px (200 + 200)\n",
       "    ctx.lineTo(100, 300); // draw up toward left (100 less than 300, so left)\n",
       "    ctx.fill(); // connect and fill\n",
       "\n",
       "\n",
       "\n",
       "</script>"
      ],
      "text/plain": [
       "<canvas_magic.canvas.Canvas at 0x1089448d0>"
      ]
     },
     "execution_count": 6,
     "metadata": {},
     "output_type": "execute_result"
    }
   ],
   "source": [
    "%canvas -v txt --context ctx"
   ]
  },
  {
   "cell_type": "code",
   "execution_count": 7,
   "metadata": {},
   "outputs": [
    {
     "data": {
      "text/html": [
       "<canvas id=\"VLJAS\" width=\"700\" height=\"410\">  <p>Some default content can appear here.</p>\n",
       "</canvas>\n",
       "<script type=\"text/javascript\">var canvas = document.getElementById('VLJAS');\n",
       "  //if (canvas.getContext) {}\n",
       "    var ctx = canvas.getContext('2d');</script> \n",
       "<script type=\"text/javascript\">\n",
       "    ctx.beginPath(); // note usage below \n",
       "\n",
       "    // triangle 1, at left\n",
       "    ctx.fillStyle = \"#F9A520\";\n",
       "    ctx.moveTo(0, 0); // start at top left corner of canvas\n",
       "    ctx.lineTo(200, 0); // go 200px to right (x), straight line from 0 to 0\n",
       "    ctx.lineTo(100, 200); // go to horizontal 100 (x) and vertical 200 (y)\n",
       "    ctx.fill(); // connect and fill\n",
       "\n",
       "    // triangle 2, top center\n",
       "    ctx.moveTo(300, 0); // pick up \"pen,\" reposition at 300 (horiz), 0 (vert)\n",
       "    ctx.lineTo(300, 200); // draw straight down (from 300,0) to 200px\n",
       "    ctx.lineTo(500, 100); // draw up toward right (100 half of 200)\n",
       "    ctx.fill(); // connect and fill\n",
       "\n",
       "    // triangle 3, bottom center\n",
       "    ctx.beginPath(); // note: w/o this, color does not work as expected \n",
       "    ctx.fillStyle = \"#F00\";\n",
       "    ctx.moveTo(300, 200); // pick up \"pen,\" reposition at 300 (horiz), 200 (vert)\n",
       "    ctx.lineTo(300, 400); // draw straight down by 200px (200 + 200)\n",
       "    ctx.lineTo(100, 300); // draw up toward left (100 less than 300, so left)\n",
       "    ctx.fill(); // connect and fill\n",
       "\n",
       "\n",
       "\n",
       "</script>"
      ],
      "text/plain": [
       "<canvas_magic.canvas.Canvas at 0x108944e80>"
      ]
     },
     "execution_count": 7,
     "metadata": {},
     "output_type": "execute_result"
    }
   ],
   "source": [
    "%canvas -v txt --wrap"
   ]
  },
  {
   "cell_type": "markdown",
   "metadata": {},
   "source": [
    "## Cell Magic with Implicit Context"
   ]
  },
  {
   "cell_type": "code",
   "execution_count": 8,
   "metadata": {},
   "outputs": [],
   "source": [
    "txt2='''\n",
    "    beginPath(); // note usage below \n",
    "\n",
    "    // triangle 1, at left\n",
    "    fillStyle = \"#F9A520\";\n",
    "    moveTo(0, 0); // start at top left corner of canvas\n",
    "    lineTo(200, 0); // go 200px to right (x), straight line from 0 to 0\n",
    "    lineTo(100, 200); // go to horizontal 100 (x) and vertical 200 (y)\n",
    "    fill(); // connect and fill\n",
    "\n",
    "   // triangle 3, bottom center\n",
    "    beginPath(); // note: w/o this, color does not work as expected \n",
    "    fillStyle = \"#F00\";\n",
    "    moveTo(300, 200); // pick up \"pen,\" reposition at 300 (horiz), 200 (vert)\n",
    "    lineTo(300, 400); // draw straight down by 200px (200 + 200)\n",
    "    lineTo(100, 300); // draw up toward left (100 less than 300, so left)\n",
    "    fill(); // connect and fill\n",
    "\n",
    "'''"
   ]
  },
  {
   "cell_type": "code",
   "execution_count": 9,
   "metadata": {},
   "outputs": [
    {
     "data": {
      "text/html": [
       "<canvas id=\"XHJ87\" width=\"700\" height=\"410\">  <p>Some default content can appear here.</p>\n",
       "</canvas>\n",
       "<script type=\"text/javascript\">var canvas = document.getElementById('XHJ87');\n",
       "  //if (canvas.getContext) {}\n",
       "    var ctx = canvas.getContext('2d');</script> \n",
       "<script type=\"text/javascript\">with (ctx) { \n",
       "    beginPath(); // note usage below \n",
       "\n",
       "    // triangle 1, at left\n",
       "    fillStyle = \"#F9A520\";\n",
       "    moveTo(0, 0); // start at top left corner of canvas\n",
       "    lineTo(200, 0); // go 200px to right (x), straight line from 0 to 0\n",
       "    lineTo(100, 200); // go to horizontal 100 (x) and vertical 200 (y)\n",
       "    fill(); // connect and fill\n",
       "\n",
       "   // triangle 3, bottom center\n",
       "    beginPath(); // note: w/o this, color does not work as expected \n",
       "    fillStyle = \"#F00\";\n",
       "    moveTo(300, 200); // pick up \"pen,\" reposition at 300 (horiz), 200 (vert)\n",
       "    lineTo(300, 400); // draw straight down by 200px (200 + 200)\n",
       "    lineTo(100, 300); // draw up toward left (100 less than 300, so left)\n",
       "    fill(); // connect and fill\n",
       "\n",
       "\n",
       " }</script>"
      ],
      "text/plain": [
       "<canvas_magic.canvas.Canvas at 0x1089b9588>"
      ]
     },
     "execution_count": 9,
     "metadata": {},
     "output_type": "execute_result"
    }
   ],
   "source": [
    "%canvas -v txt2"
   ]
  },
  {
   "cell_type": "code",
   "execution_count": null,
   "metadata": {},
   "outputs": [],
   "source": []
  }
 ],
 "metadata": {
  "kernelspec": {
   "display_name": "Python 3",
   "language": "python",
   "name": "python3"
  },
  "language_info": {
   "codemirror_mode": {
    "name": "ipython",
    "version": 3
   },
   "file_extension": ".py",
   "mimetype": "text/x-python",
   "name": "python",
   "nbconvert_exporter": "python",
   "pygments_lexer": "ipython3",
   "version": "3.6.4"
  }
 },
 "nbformat": 4,
 "nbformat_minor": 2
}
